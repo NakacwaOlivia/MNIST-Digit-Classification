{
  "nbformat": 4,
  "nbformat_minor": 0,
  "metadata": {
    "colab": {
      "provenance": [],
      "collapsed_sections": [
        "l7afCRvAzQHy",
        "VmWD48hlPumn"
      ]
    },
    "kernelspec": {
      "name": "python3",
      "display_name": "Python 3"
    },
    "language_info": {
      "name": "python"
    }
  },
  "cells": [
    {
      "cell_type": "markdown",
      "source": [
        "## Assignment Set 2: ANNs and CNNs\n",
        "---\n",
        "> COMPILED BY NAKACWA OLIVIA  20/U/0080"
      ],
      "metadata": {
        "id": "uo2n9eLnzHEF"
      }
    },
    {
      "cell_type": "markdown",
      "source": [
        "## Question 1: Artificial Neural Networks (Topics: ANN architecture, Activation functions)"
      ],
      "metadata": {
        "id": "l7afCRvAzQHy"
      }
    },
    {
      "cell_type": "code",
      "source": [
        "# Import the necessary libraries\n",
        "import numpy as np\n",
        "import pandas as pd\n",
        "import matplotlib.pyplot as plt\n",
        "from keras.models import Model\n",
        "from keras.layers import Dense, Input"
      ],
      "metadata": {
        "id": "R5lLKBjdzWJX"
      },
      "execution_count": null,
      "outputs": []
    },
    {
      "cell_type": "code",
      "source": [
        "# Load data\n",
        "data = pd.read_csv('Heart.csv')"
      ],
      "metadata": {
        "id": "NsRekW470F6p"
      },
      "execution_count": null,
      "outputs": []
    },
    {
      "cell_type": "code",
      "source": [
        "# Checking the first five columns\n",
        "data.head()"
      ],
      "metadata": {
        "colab": {
          "base_uri": "https://localhost:8080/",
          "height": 270
        },
        "id": "gVEOSlyt0dHN",
        "outputId": "1537f9d7-b437-4c78-aeac-96b7359fdd8f"
      },
      "execution_count": null,
      "outputs": [
        {
          "output_type": "execute_result",
          "data": {
            "text/plain": [
              "    age  anaemia  creatinine_phosphokinase  diabetes  ejection_fraction  \\\n",
              "0  75.0        0                       582         0                 20   \n",
              "1  55.0        0                      7861         0                 38   \n",
              "2  65.0        0                       146         0                 20   \n",
              "3  50.0        1                       111         0                 20   \n",
              "4  65.0        1                       160         1                 20   \n",
              "\n",
              "   high_blood_pressure  platelets  serum_creatinine  serum_sodium  sex  \\\n",
              "0                    1  265000.00               1.9           130    1   \n",
              "1                    0  263358.03               1.1           136    1   \n",
              "2                    0  162000.00               1.3           129    1   \n",
              "3                    0  210000.00               1.9           137    1   \n",
              "4                    0  327000.00               2.7           116    0   \n",
              "\n",
              "   smoking  time  DEATH_EVENT  \n",
              "0        0     4            1  \n",
              "1        0     6            1  \n",
              "2        1     7            1  \n",
              "3        0     7            1  \n",
              "4        0     8            1  "
            ],
            "text/html": [
              "\n",
              "  <div id=\"df-e62d6146-1130-45b6-8898-9ca9eadf29db\">\n",
              "    <div class=\"colab-df-container\">\n",
              "      <div>\n",
              "<style scoped>\n",
              "    .dataframe tbody tr th:only-of-type {\n",
              "        vertical-align: middle;\n",
              "    }\n",
              "\n",
              "    .dataframe tbody tr th {\n",
              "        vertical-align: top;\n",
              "    }\n",
              "\n",
              "    .dataframe thead th {\n",
              "        text-align: right;\n",
              "    }\n",
              "</style>\n",
              "<table border=\"1\" class=\"dataframe\">\n",
              "  <thead>\n",
              "    <tr style=\"text-align: right;\">\n",
              "      <th></th>\n",
              "      <th>age</th>\n",
              "      <th>anaemia</th>\n",
              "      <th>creatinine_phosphokinase</th>\n",
              "      <th>diabetes</th>\n",
              "      <th>ejection_fraction</th>\n",
              "      <th>high_blood_pressure</th>\n",
              "      <th>platelets</th>\n",
              "      <th>serum_creatinine</th>\n",
              "      <th>serum_sodium</th>\n",
              "      <th>sex</th>\n",
              "      <th>smoking</th>\n",
              "      <th>time</th>\n",
              "      <th>DEATH_EVENT</th>\n",
              "    </tr>\n",
              "  </thead>\n",
              "  <tbody>\n",
              "    <tr>\n",
              "      <th>0</th>\n",
              "      <td>75.0</td>\n",
              "      <td>0</td>\n",
              "      <td>582</td>\n",
              "      <td>0</td>\n",
              "      <td>20</td>\n",
              "      <td>1</td>\n",
              "      <td>265000.00</td>\n",
              "      <td>1.9</td>\n",
              "      <td>130</td>\n",
              "      <td>1</td>\n",
              "      <td>0</td>\n",
              "      <td>4</td>\n",
              "      <td>1</td>\n",
              "    </tr>\n",
              "    <tr>\n",
              "      <th>1</th>\n",
              "      <td>55.0</td>\n",
              "      <td>0</td>\n",
              "      <td>7861</td>\n",
              "      <td>0</td>\n",
              "      <td>38</td>\n",
              "      <td>0</td>\n",
              "      <td>263358.03</td>\n",
              "      <td>1.1</td>\n",
              "      <td>136</td>\n",
              "      <td>1</td>\n",
              "      <td>0</td>\n",
              "      <td>6</td>\n",
              "      <td>1</td>\n",
              "    </tr>\n",
              "    <tr>\n",
              "      <th>2</th>\n",
              "      <td>65.0</td>\n",
              "      <td>0</td>\n",
              "      <td>146</td>\n",
              "      <td>0</td>\n",
              "      <td>20</td>\n",
              "      <td>0</td>\n",
              "      <td>162000.00</td>\n",
              "      <td>1.3</td>\n",
              "      <td>129</td>\n",
              "      <td>1</td>\n",
              "      <td>1</td>\n",
              "      <td>7</td>\n",
              "      <td>1</td>\n",
              "    </tr>\n",
              "    <tr>\n",
              "      <th>3</th>\n",
              "      <td>50.0</td>\n",
              "      <td>1</td>\n",
              "      <td>111</td>\n",
              "      <td>0</td>\n",
              "      <td>20</td>\n",
              "      <td>0</td>\n",
              "      <td>210000.00</td>\n",
              "      <td>1.9</td>\n",
              "      <td>137</td>\n",
              "      <td>1</td>\n",
              "      <td>0</td>\n",
              "      <td>7</td>\n",
              "      <td>1</td>\n",
              "    </tr>\n",
              "    <tr>\n",
              "      <th>4</th>\n",
              "      <td>65.0</td>\n",
              "      <td>1</td>\n",
              "      <td>160</td>\n",
              "      <td>1</td>\n",
              "      <td>20</td>\n",
              "      <td>0</td>\n",
              "      <td>327000.00</td>\n",
              "      <td>2.7</td>\n",
              "      <td>116</td>\n",
              "      <td>0</td>\n",
              "      <td>0</td>\n",
              "      <td>8</td>\n",
              "      <td>1</td>\n",
              "    </tr>\n",
              "  </tbody>\n",
              "</table>\n",
              "</div>\n",
              "      <button class=\"colab-df-convert\" onclick=\"convertToInteractive('df-e62d6146-1130-45b6-8898-9ca9eadf29db')\"\n",
              "              title=\"Convert this dataframe to an interactive table.\"\n",
              "              style=\"display:none;\">\n",
              "        \n",
              "  <svg xmlns=\"http://www.w3.org/2000/svg\" height=\"24px\"viewBox=\"0 0 24 24\"\n",
              "       width=\"24px\">\n",
              "    <path d=\"M0 0h24v24H0V0z\" fill=\"none\"/>\n",
              "    <path d=\"M18.56 5.44l.94 2.06.94-2.06 2.06-.94-2.06-.94-.94-2.06-.94 2.06-2.06.94zm-11 1L8.5 8.5l.94-2.06 2.06-.94-2.06-.94L8.5 2.5l-.94 2.06-2.06.94zm10 10l.94 2.06.94-2.06 2.06-.94-2.06-.94-.94-2.06-.94 2.06-2.06.94z\"/><path d=\"M17.41 7.96l-1.37-1.37c-.4-.4-.92-.59-1.43-.59-.52 0-1.04.2-1.43.59L10.3 9.45l-7.72 7.72c-.78.78-.78 2.05 0 2.83L4 21.41c.39.39.9.59 1.41.59.51 0 1.02-.2 1.41-.59l7.78-7.78 2.81-2.81c.8-.78.8-2.07 0-2.86zM5.41 20L4 18.59l7.72-7.72 1.47 1.35L5.41 20z\"/>\n",
              "  </svg>\n",
              "      </button>\n",
              "      \n",
              "  <style>\n",
              "    .colab-df-container {\n",
              "      display:flex;\n",
              "      flex-wrap:wrap;\n",
              "      gap: 12px;\n",
              "    }\n",
              "\n",
              "    .colab-df-convert {\n",
              "      background-color: #E8F0FE;\n",
              "      border: none;\n",
              "      border-radius: 50%;\n",
              "      cursor: pointer;\n",
              "      display: none;\n",
              "      fill: #1967D2;\n",
              "      height: 32px;\n",
              "      padding: 0 0 0 0;\n",
              "      width: 32px;\n",
              "    }\n",
              "\n",
              "    .colab-df-convert:hover {\n",
              "      background-color: #E2EBFA;\n",
              "      box-shadow: 0px 1px 2px rgba(60, 64, 67, 0.3), 0px 1px 3px 1px rgba(60, 64, 67, 0.15);\n",
              "      fill: #174EA6;\n",
              "    }\n",
              "\n",
              "    [theme=dark] .colab-df-convert {\n",
              "      background-color: #3B4455;\n",
              "      fill: #D2E3FC;\n",
              "    }\n",
              "\n",
              "    [theme=dark] .colab-df-convert:hover {\n",
              "      background-color: #434B5C;\n",
              "      box-shadow: 0px 1px 3px 1px rgba(0, 0, 0, 0.15);\n",
              "      filter: drop-shadow(0px 1px 2px rgba(0, 0, 0, 0.3));\n",
              "      fill: #FFFFFF;\n",
              "    }\n",
              "  </style>\n",
              "\n",
              "      <script>\n",
              "        const buttonEl =\n",
              "          document.querySelector('#df-e62d6146-1130-45b6-8898-9ca9eadf29db button.colab-df-convert');\n",
              "        buttonEl.style.display =\n",
              "          google.colab.kernel.accessAllowed ? 'block' : 'none';\n",
              "\n",
              "        async function convertToInteractive(key) {\n",
              "          const element = document.querySelector('#df-e62d6146-1130-45b6-8898-9ca9eadf29db');\n",
              "          const dataTable =\n",
              "            await google.colab.kernel.invokeFunction('convertToInteractive',\n",
              "                                                     [key], {});\n",
              "          if (!dataTable) return;\n",
              "\n",
              "          const docLinkHtml = 'Like what you see? Visit the ' +\n",
              "            '<a target=\"_blank\" href=https://colab.research.google.com/notebooks/data_table.ipynb>data table notebook</a>'\n",
              "            + ' to learn more about interactive tables.';\n",
              "          element.innerHTML = '';\n",
              "          dataTable['output_type'] = 'display_data';\n",
              "          await google.colab.output.renderOutput(dataTable, element);\n",
              "          const docLink = document.createElement('div');\n",
              "          docLink.innerHTML = docLinkHtml;\n",
              "          element.appendChild(docLink);\n",
              "        }\n",
              "      </script>\n",
              "    </div>\n",
              "  </div>\n",
              "  "
            ]
          },
          "metadata": {},
          "execution_count": 3
        }
      ]
    },
    {
      "cell_type": "code",
      "source": [
        "# Checking empty columns\n",
        "data.isnull().sum()"
      ],
      "metadata": {
        "colab": {
          "base_uri": "https://localhost:8080/"
        },
        "id": "FGoQdezo0p1H",
        "outputId": "d157d881-1ab3-4d6a-c4c6-17620d5721c9"
      },
      "execution_count": null,
      "outputs": [
        {
          "output_type": "execute_result",
          "data": {
            "text/plain": [
              "age                         0\n",
              "anaemia                     0\n",
              "creatinine_phosphokinase    0\n",
              "diabetes                    0\n",
              "ejection_fraction           0\n",
              "high_blood_pressure         0\n",
              "platelets                   0\n",
              "serum_creatinine            0\n",
              "serum_sodium                0\n",
              "sex                         0\n",
              "smoking                     0\n",
              "time                        0\n",
              "DEATH_EVENT                 0\n",
              "dtype: int64"
            ]
          },
          "metadata": {},
          "execution_count": 4
        }
      ]
    },
    {
      "cell_type": "code",
      "source": [
        "# Checking the data\n",
        "data.info()"
      ],
      "metadata": {
        "colab": {
          "base_uri": "https://localhost:8080/"
        },
        "id": "nnF6SdcwlqBO",
        "outputId": "ab386c7d-5f97-44c5-fc3d-6e608f6c8614"
      },
      "execution_count": null,
      "outputs": [
        {
          "output_type": "stream",
          "name": "stdout",
          "text": [
            "<class 'pandas.core.frame.DataFrame'>\n",
            "RangeIndex: 299 entries, 0 to 298\n",
            "Data columns (total 13 columns):\n",
            " #   Column                    Non-Null Count  Dtype  \n",
            "---  ------                    --------------  -----  \n",
            " 0   age                       299 non-null    float64\n",
            " 1   anaemia                   299 non-null    int64  \n",
            " 2   creatinine_phosphokinase  299 non-null    int64  \n",
            " 3   diabetes                  299 non-null    int64  \n",
            " 4   ejection_fraction         299 non-null    int64  \n",
            " 5   high_blood_pressure       299 non-null    int64  \n",
            " 6   platelets                 299 non-null    float64\n",
            " 7   serum_creatinine          299 non-null    float64\n",
            " 8   serum_sodium              299 non-null    int64  \n",
            " 9   sex                       299 non-null    int64  \n",
            " 10  smoking                   299 non-null    int64  \n",
            " 11  time                      299 non-null    int64  \n",
            " 12  DEATH_EVENT               299 non-null    int64  \n",
            "dtypes: float64(3), int64(10)\n",
            "memory usage: 30.5 KB\n"
          ]
        }
      ]
    },
    {
      "cell_type": "code",
      "source": [
        "df = pd.DataFrame(data)\n",
        "df"
      ],
      "metadata": {
        "colab": {
          "base_uri": "https://localhost:8080/",
          "height": 488
        },
        "id": "6yYd_KRbV-Rz",
        "outputId": "78e9d51c-13a1-421f-81e8-d7398c66f2f0"
      },
      "execution_count": null,
      "outputs": [
        {
          "output_type": "execute_result",
          "data": {
            "text/plain": [
              "      age  anaemia  creatinine_phosphokinase  diabetes  ejection_fraction  \\\n",
              "0    75.0        0                       582         0                 20   \n",
              "1    55.0        0                      7861         0                 38   \n",
              "2    65.0        0                       146         0                 20   \n",
              "3    50.0        1                       111         0                 20   \n",
              "4    65.0        1                       160         1                 20   \n",
              "..    ...      ...                       ...       ...                ...   \n",
              "294  62.0        0                        61         1                 38   \n",
              "295  55.0        0                      1820         0                 38   \n",
              "296  45.0        0                      2060         1                 60   \n",
              "297  45.0        0                      2413         0                 38   \n",
              "298  50.0        0                       196         0                 45   \n",
              "\n",
              "     high_blood_pressure  platelets  serum_creatinine  serum_sodium  sex  \\\n",
              "0                      1  265000.00               1.9           130    1   \n",
              "1                      0  263358.03               1.1           136    1   \n",
              "2                      0  162000.00               1.3           129    1   \n",
              "3                      0  210000.00               1.9           137    1   \n",
              "4                      0  327000.00               2.7           116    0   \n",
              "..                   ...        ...               ...           ...  ...   \n",
              "294                    1  155000.00               1.1           143    1   \n",
              "295                    0  270000.00               1.2           139    0   \n",
              "296                    0  742000.00               0.8           138    0   \n",
              "297                    0  140000.00               1.4           140    1   \n",
              "298                    0  395000.00               1.6           136    1   \n",
              "\n",
              "     smoking  time  DEATH_EVENT  \n",
              "0          0     4            1  \n",
              "1          0     6            1  \n",
              "2          1     7            1  \n",
              "3          0     7            1  \n",
              "4          0     8            1  \n",
              "..       ...   ...          ...  \n",
              "294        1   270            0  \n",
              "295        0   271            0  \n",
              "296        0   278            0  \n",
              "297        1   280            0  \n",
              "298        1   285            0  \n",
              "\n",
              "[299 rows x 13 columns]"
            ],
            "text/html": [
              "\n",
              "  <div id=\"df-0ef096a2-d5df-42b1-93b4-287b1ac8450e\">\n",
              "    <div class=\"colab-df-container\">\n",
              "      <div>\n",
              "<style scoped>\n",
              "    .dataframe tbody tr th:only-of-type {\n",
              "        vertical-align: middle;\n",
              "    }\n",
              "\n",
              "    .dataframe tbody tr th {\n",
              "        vertical-align: top;\n",
              "    }\n",
              "\n",
              "    .dataframe thead th {\n",
              "        text-align: right;\n",
              "    }\n",
              "</style>\n",
              "<table border=\"1\" class=\"dataframe\">\n",
              "  <thead>\n",
              "    <tr style=\"text-align: right;\">\n",
              "      <th></th>\n",
              "      <th>age</th>\n",
              "      <th>anaemia</th>\n",
              "      <th>creatinine_phosphokinase</th>\n",
              "      <th>diabetes</th>\n",
              "      <th>ejection_fraction</th>\n",
              "      <th>high_blood_pressure</th>\n",
              "      <th>platelets</th>\n",
              "      <th>serum_creatinine</th>\n",
              "      <th>serum_sodium</th>\n",
              "      <th>sex</th>\n",
              "      <th>smoking</th>\n",
              "      <th>time</th>\n",
              "      <th>DEATH_EVENT</th>\n",
              "    </tr>\n",
              "  </thead>\n",
              "  <tbody>\n",
              "    <tr>\n",
              "      <th>0</th>\n",
              "      <td>75.0</td>\n",
              "      <td>0</td>\n",
              "      <td>582</td>\n",
              "      <td>0</td>\n",
              "      <td>20</td>\n",
              "      <td>1</td>\n",
              "      <td>265000.00</td>\n",
              "      <td>1.9</td>\n",
              "      <td>130</td>\n",
              "      <td>1</td>\n",
              "      <td>0</td>\n",
              "      <td>4</td>\n",
              "      <td>1</td>\n",
              "    </tr>\n",
              "    <tr>\n",
              "      <th>1</th>\n",
              "      <td>55.0</td>\n",
              "      <td>0</td>\n",
              "      <td>7861</td>\n",
              "      <td>0</td>\n",
              "      <td>38</td>\n",
              "      <td>0</td>\n",
              "      <td>263358.03</td>\n",
              "      <td>1.1</td>\n",
              "      <td>136</td>\n",
              "      <td>1</td>\n",
              "      <td>0</td>\n",
              "      <td>6</td>\n",
              "      <td>1</td>\n",
              "    </tr>\n",
              "    <tr>\n",
              "      <th>2</th>\n",
              "      <td>65.0</td>\n",
              "      <td>0</td>\n",
              "      <td>146</td>\n",
              "      <td>0</td>\n",
              "      <td>20</td>\n",
              "      <td>0</td>\n",
              "      <td>162000.00</td>\n",
              "      <td>1.3</td>\n",
              "      <td>129</td>\n",
              "      <td>1</td>\n",
              "      <td>1</td>\n",
              "      <td>7</td>\n",
              "      <td>1</td>\n",
              "    </tr>\n",
              "    <tr>\n",
              "      <th>3</th>\n",
              "      <td>50.0</td>\n",
              "      <td>1</td>\n",
              "      <td>111</td>\n",
              "      <td>0</td>\n",
              "      <td>20</td>\n",
              "      <td>0</td>\n",
              "      <td>210000.00</td>\n",
              "      <td>1.9</td>\n",
              "      <td>137</td>\n",
              "      <td>1</td>\n",
              "      <td>0</td>\n",
              "      <td>7</td>\n",
              "      <td>1</td>\n",
              "    </tr>\n",
              "    <tr>\n",
              "      <th>4</th>\n",
              "      <td>65.0</td>\n",
              "      <td>1</td>\n",
              "      <td>160</td>\n",
              "      <td>1</td>\n",
              "      <td>20</td>\n",
              "      <td>0</td>\n",
              "      <td>327000.00</td>\n",
              "      <td>2.7</td>\n",
              "      <td>116</td>\n",
              "      <td>0</td>\n",
              "      <td>0</td>\n",
              "      <td>8</td>\n",
              "      <td>1</td>\n",
              "    </tr>\n",
              "    <tr>\n",
              "      <th>...</th>\n",
              "      <td>...</td>\n",
              "      <td>...</td>\n",
              "      <td>...</td>\n",
              "      <td>...</td>\n",
              "      <td>...</td>\n",
              "      <td>...</td>\n",
              "      <td>...</td>\n",
              "      <td>...</td>\n",
              "      <td>...</td>\n",
              "      <td>...</td>\n",
              "      <td>...</td>\n",
              "      <td>...</td>\n",
              "      <td>...</td>\n",
              "    </tr>\n",
              "    <tr>\n",
              "      <th>294</th>\n",
              "      <td>62.0</td>\n",
              "      <td>0</td>\n",
              "      <td>61</td>\n",
              "      <td>1</td>\n",
              "      <td>38</td>\n",
              "      <td>1</td>\n",
              "      <td>155000.00</td>\n",
              "      <td>1.1</td>\n",
              "      <td>143</td>\n",
              "      <td>1</td>\n",
              "      <td>1</td>\n",
              "      <td>270</td>\n",
              "      <td>0</td>\n",
              "    </tr>\n",
              "    <tr>\n",
              "      <th>295</th>\n",
              "      <td>55.0</td>\n",
              "      <td>0</td>\n",
              "      <td>1820</td>\n",
              "      <td>0</td>\n",
              "      <td>38</td>\n",
              "      <td>0</td>\n",
              "      <td>270000.00</td>\n",
              "      <td>1.2</td>\n",
              "      <td>139</td>\n",
              "      <td>0</td>\n",
              "      <td>0</td>\n",
              "      <td>271</td>\n",
              "      <td>0</td>\n",
              "    </tr>\n",
              "    <tr>\n",
              "      <th>296</th>\n",
              "      <td>45.0</td>\n",
              "      <td>0</td>\n",
              "      <td>2060</td>\n",
              "      <td>1</td>\n",
              "      <td>60</td>\n",
              "      <td>0</td>\n",
              "      <td>742000.00</td>\n",
              "      <td>0.8</td>\n",
              "      <td>138</td>\n",
              "      <td>0</td>\n",
              "      <td>0</td>\n",
              "      <td>278</td>\n",
              "      <td>0</td>\n",
              "    </tr>\n",
              "    <tr>\n",
              "      <th>297</th>\n",
              "      <td>45.0</td>\n",
              "      <td>0</td>\n",
              "      <td>2413</td>\n",
              "      <td>0</td>\n",
              "      <td>38</td>\n",
              "      <td>0</td>\n",
              "      <td>140000.00</td>\n",
              "      <td>1.4</td>\n",
              "      <td>140</td>\n",
              "      <td>1</td>\n",
              "      <td>1</td>\n",
              "      <td>280</td>\n",
              "      <td>0</td>\n",
              "    </tr>\n",
              "    <tr>\n",
              "      <th>298</th>\n",
              "      <td>50.0</td>\n",
              "      <td>0</td>\n",
              "      <td>196</td>\n",
              "      <td>0</td>\n",
              "      <td>45</td>\n",
              "      <td>0</td>\n",
              "      <td>395000.00</td>\n",
              "      <td>1.6</td>\n",
              "      <td>136</td>\n",
              "      <td>1</td>\n",
              "      <td>1</td>\n",
              "      <td>285</td>\n",
              "      <td>0</td>\n",
              "    </tr>\n",
              "  </tbody>\n",
              "</table>\n",
              "<p>299 rows × 13 columns</p>\n",
              "</div>\n",
              "      <button class=\"colab-df-convert\" onclick=\"convertToInteractive('df-0ef096a2-d5df-42b1-93b4-287b1ac8450e')\"\n",
              "              title=\"Convert this dataframe to an interactive table.\"\n",
              "              style=\"display:none;\">\n",
              "        \n",
              "  <svg xmlns=\"http://www.w3.org/2000/svg\" height=\"24px\"viewBox=\"0 0 24 24\"\n",
              "       width=\"24px\">\n",
              "    <path d=\"M0 0h24v24H0V0z\" fill=\"none\"/>\n",
              "    <path d=\"M18.56 5.44l.94 2.06.94-2.06 2.06-.94-2.06-.94-.94-2.06-.94 2.06-2.06.94zm-11 1L8.5 8.5l.94-2.06 2.06-.94-2.06-.94L8.5 2.5l-.94 2.06-2.06.94zm10 10l.94 2.06.94-2.06 2.06-.94-2.06-.94-.94-2.06-.94 2.06-2.06.94z\"/><path d=\"M17.41 7.96l-1.37-1.37c-.4-.4-.92-.59-1.43-.59-.52 0-1.04.2-1.43.59L10.3 9.45l-7.72 7.72c-.78.78-.78 2.05 0 2.83L4 21.41c.39.39.9.59 1.41.59.51 0 1.02-.2 1.41-.59l7.78-7.78 2.81-2.81c.8-.78.8-2.07 0-2.86zM5.41 20L4 18.59l7.72-7.72 1.47 1.35L5.41 20z\"/>\n",
              "  </svg>\n",
              "      </button>\n",
              "      \n",
              "  <style>\n",
              "    .colab-df-container {\n",
              "      display:flex;\n",
              "      flex-wrap:wrap;\n",
              "      gap: 12px;\n",
              "    }\n",
              "\n",
              "    .colab-df-convert {\n",
              "      background-color: #E8F0FE;\n",
              "      border: none;\n",
              "      border-radius: 50%;\n",
              "      cursor: pointer;\n",
              "      display: none;\n",
              "      fill: #1967D2;\n",
              "      height: 32px;\n",
              "      padding: 0 0 0 0;\n",
              "      width: 32px;\n",
              "    }\n",
              "\n",
              "    .colab-df-convert:hover {\n",
              "      background-color: #E2EBFA;\n",
              "      box-shadow: 0px 1px 2px rgba(60, 64, 67, 0.3), 0px 1px 3px 1px rgba(60, 64, 67, 0.15);\n",
              "      fill: #174EA6;\n",
              "    }\n",
              "\n",
              "    [theme=dark] .colab-df-convert {\n",
              "      background-color: #3B4455;\n",
              "      fill: #D2E3FC;\n",
              "    }\n",
              "\n",
              "    [theme=dark] .colab-df-convert:hover {\n",
              "      background-color: #434B5C;\n",
              "      box-shadow: 0px 1px 3px 1px rgba(0, 0, 0, 0.15);\n",
              "      filter: drop-shadow(0px 1px 2px rgba(0, 0, 0, 0.3));\n",
              "      fill: #FFFFFF;\n",
              "    }\n",
              "  </style>\n",
              "\n",
              "      <script>\n",
              "        const buttonEl =\n",
              "          document.querySelector('#df-0ef096a2-d5df-42b1-93b4-287b1ac8450e button.colab-df-convert');\n",
              "        buttonEl.style.display =\n",
              "          google.colab.kernel.accessAllowed ? 'block' : 'none';\n",
              "\n",
              "        async function convertToInteractive(key) {\n",
              "          const element = document.querySelector('#df-0ef096a2-d5df-42b1-93b4-287b1ac8450e');\n",
              "          const dataTable =\n",
              "            await google.colab.kernel.invokeFunction('convertToInteractive',\n",
              "                                                     [key], {});\n",
              "          if (!dataTable) return;\n",
              "\n",
              "          const docLinkHtml = 'Like what you see? Visit the ' +\n",
              "            '<a target=\"_blank\" href=https://colab.research.google.com/notebooks/data_table.ipynb>data table notebook</a>'\n",
              "            + ' to learn more about interactive tables.';\n",
              "          element.innerHTML = '';\n",
              "          dataTable['output_type'] = 'display_data';\n",
              "          await google.colab.output.renderOutput(dataTable, element);\n",
              "          const docLink = document.createElement('div');\n",
              "          docLink.innerHTML = docLinkHtml;\n",
              "          element.appendChild(docLink);\n",
              "        }\n",
              "      </script>\n",
              "    </div>\n",
              "  </div>\n",
              "  "
            ]
          },
          "metadata": {},
          "execution_count": 6
        }
      ]
    },
    {
      "cell_type": "code",
      "source": [
        "# Create feature matrix and target vector\n",
        "X = df.iloc[:, :-1].values\n",
        "y = df.iloc[:, -1].values"
      ],
      "metadata": {
        "id": "P7M5Db6Yf54Q"
      },
      "execution_count": null,
      "outputs": []
    },
    {
      "cell_type": "code",
      "source": [
        "from sklearn.model_selection import train_test_split\n",
        "# Split data into training and testing sets\n",
        "X_train, X_test, y_train, y_test = train_test_split(X, y, test_size = 0.25, random_state = 0)"
      ],
      "metadata": {
        "id": "3u6jCKWcgtZS"
      },
      "execution_count": null,
      "outputs": []
    },
    {
      "cell_type": "code",
      "source": [
        "# View train data\n",
        "print(X_train)"
      ],
      "metadata": {
        "colab": {
          "base_uri": "https://localhost:8080/"
        },
        "id": "gQI8g_lkg1xS",
        "outputId": "831dff97-9cd5-4b19-9201-987e2f4e8d1e"
      },
      "execution_count": null,
      "outputs": [
        {
          "output_type": "stream",
          "name": "stdout",
          "text": [
            "[[ 45.   1.  66. ...   1.   0. 230.]\n",
            " [ 82.   1. 855. ...   0.   0.  30.]\n",
            " [ 70.   1.  59. ...   0.   0.  85.]\n",
            " ...\n",
            " [ 85.   1. 102. ...   0.   0.  94.]\n",
            " [ 60.   0. 582. ...   1.   1.  40.]\n",
            " [ 70.   1. 171. ...   1.   1. 146.]]\n"
          ]
        }
      ]
    },
    {
      "cell_type": "code",
      "source": [
        "# View train data\n",
        "print(y_train)"
      ],
      "metadata": {
        "colab": {
          "base_uri": "https://localhost:8080/"
        },
        "id": "6LRSEAKAhD_d",
        "outputId": "614d9e1e-aca6-4194-a5b8-55172f1bb090"
      },
      "execution_count": null,
      "outputs": [
        {
          "output_type": "stream",
          "name": "stdout",
          "text": [
            "[0 1 0 0 0 0 0 0 0 0 0 0 0 0 0 0 1 0 0 0 0 0 1 1 1 0 0 1 0 0 0 0 0 0 1 0 0\n",
            " 0 0 0 1 1 0 1 1 1 0 1 0 1 0 0 0 0 1 0 0 1 1 0 0 0 0 1 0 1 0 0 1 0 0 1 1 0\n",
            " 0 0 1 0 0 0 0 1 1 0 0 0 0 1 0 1 1 0 0 1 0 0 0 0 0 1 0 0 0 0 0 0 0 0 0 0 0\n",
            " 0 0 0 1 0 0 1 0 1 1 0 0 0 0 0 1 1 1 0 0 0 0 0 1 0 0 0 0 0 0 1 0 0 1 1 0 1\n",
            " 0 0 1 0 0 0 0 0 1 0 1 1 0 1 0 0 0 1 1 0 0 1 1 1 0 0 1 1 0 0 0 1 1 0 0 1 1\n",
            " 1 0 0 0 1 1 0 1 0 0 0 0 0 0 0 0 0 0 1 1 1 0 0 0 1 0 0 0 0 0 0 0 1 1 0 0 0\n",
            " 1 0]\n"
          ]
        }
      ]
    },
    {
      "cell_type": "code",
      "source": [
        "# # Create a simple artificial neural network with one hidden layer\n",
        "from keras.models import Sequential\n",
        "from keras.layers import Dense, BatchNormalization, Dropout, LSTM\n",
        "\n",
        "#Instantiating the model\n",
        "model = Sequential()\n",
        "\n",
        "# Adding layers to the model\n",
        "model.add(Dense(units = 32, kernel_initializer = 'uniform', activation = 'relu', input_dim = 12))\n",
        "model.add(Dense(units = 16, kernel_initializer = 'uniform', activation = 'relu'))\n",
        "model.add(Dropout(0.25))\n",
        "model.add(Dense(units = 8, kernel_initializer = 'uniform', activation = 'relu'))\n",
        "model.add(Dropout(0.5))\n",
        "model.add(Dense(units = 4, kernel_initializer = 'uniform', activation = 'relu'))\n",
        "model.add(Dropout(0.5))\n",
        "model.add(Dense(units = 1, kernel_initializer = 'uniform', activation = 'sigmoid'))"
      ],
      "metadata": {
        "id": "ez279i4HfQhg"
      },
      "execution_count": null,
      "outputs": []
    },
    {
      "cell_type": "code",
      "source": [
        "# Compile the model with binary crossentropy loss and Adam optimizer\n",
        "model.compile(loss='binary_crossentropy', optimizer='adam', metrics=['accuracy'])"
      ],
      "metadata": {
        "id": "Go2mQbgvfmls"
      },
      "execution_count": null,
      "outputs": []
    },
    {
      "cell_type": "code",
      "source": [
        "# Checking the shape of X\n",
        "X.shape"
      ],
      "metadata": {
        "colab": {
          "base_uri": "https://localhost:8080/"
        },
        "id": "XBFVkNe2VCUk",
        "outputId": "baa2cf76-f74d-4759-9702-4843f2fe3636"
      },
      "execution_count": null,
      "outputs": [
        {
          "output_type": "execute_result",
          "data": {
            "text/plain": [
              "(299, 12)"
            ]
          },
          "metadata": {},
          "execution_count": 20
        }
      ]
    },
    {
      "cell_type": "code",
      "source": [
        "# Train the model on the generated data\n",
        "history = model.fit(X, y, epochs=100, verbose=0, batch_size=32)"
      ],
      "metadata": {
        "id": "36km8873fsAw"
      },
      "execution_count": null,
      "outputs": []
    },
    {
      "cell_type": "code",
      "source": [
        "history.history"
      ],
      "metadata": {
        "colab": {
          "base_uri": "https://localhost:8080/"
        },
        "id": "VRfYRvyWYKQi",
        "outputId": "95f7701a-04c4-4dc8-ef07-719b0960817a"
      },
      "execution_count": null,
      "outputs": [
        {
          "output_type": "execute_result",
          "data": {
            "text/plain": [
              "{'loss': [0.7249692678451538,\n",
              "  0.6813122630119324,\n",
              "  0.6657065153121948,\n",
              "  0.6654859781265259,\n",
              "  0.6740546822547913,\n",
              "  0.6777842044830322,\n",
              "  0.6837149262428284,\n",
              "  0.677440881729126,\n",
              "  0.6657852530479431,\n",
              "  0.661763072013855,\n",
              "  0.6555622220039368,\n",
              "  0.6687713265419006,\n",
              "  0.6628989577293396,\n",
              "  0.6605639457702637,\n",
              "  0.6634138822555542,\n",
              "  0.675055205821991,\n",
              "  0.6619507074356079,\n",
              "  0.6567316651344299,\n",
              "  0.6489536166191101,\n",
              "  0.6609126329421997,\n",
              "  0.6577006578445435,\n",
              "  0.6556732058525085,\n",
              "  0.6561088562011719,\n",
              "  0.660723865032196,\n",
              "  0.6380105018615723,\n",
              "  0.6514025926589966,\n",
              "  0.6418059468269348,\n",
              "  0.6377490162849426,\n",
              "  0.6427192091941833,\n",
              "  0.6593773365020752,\n",
              "  0.6469884514808655,\n",
              "  0.6505781412124634,\n",
              "  0.6325603723526001,\n",
              "  0.6375385522842407,\n",
              "  0.6395674347877502,\n",
              "  0.6443369388580322,\n",
              "  0.6407017707824707,\n",
              "  0.6277918219566345,\n",
              "  0.6450260281562805,\n",
              "  0.6668874025344849,\n",
              "  0.6463509202003479,\n",
              "  0.6421710848808289,\n",
              "  0.6416921019554138,\n",
              "  0.6392311453819275,\n",
              "  0.6387221813201904,\n",
              "  0.6405388712882996,\n",
              "  0.6466935276985168,\n",
              "  0.6406726837158203,\n",
              "  0.6377346515655518,\n",
              "  0.648063063621521,\n",
              "  0.6277238726615906,\n",
              "  0.6397566199302673,\n",
              "  0.6480100750923157,\n",
              "  0.6403648257255554,\n",
              "  0.6318413019180298,\n",
              "  0.6470213532447815,\n",
              "  0.6368595957756042,\n",
              "  0.6398237943649292,\n",
              "  0.6306568384170532,\n",
              "  0.6347454190254211,\n",
              "  0.6343351602554321,\n",
              "  0.6413902044296265,\n",
              "  0.6362060904502869,\n",
              "  0.6404304504394531,\n",
              "  0.6369210481643677,\n",
              "  0.6387953758239746,\n",
              "  0.6354154348373413,\n",
              "  0.636106550693512,\n",
              "  0.6373185515403748,\n",
              "  0.6323491334915161,\n",
              "  0.6356366276741028,\n",
              "  0.6328219175338745,\n",
              "  0.6340404748916626,\n",
              "  0.6378456354141235,\n",
              "  0.6295683979988098,\n",
              "  0.6283153295516968,\n",
              "  0.6328864693641663,\n",
              "  0.6376886367797852,\n",
              "  0.6368165016174316,\n",
              "  0.6351040601730347,\n",
              "  0.6235492825508118,\n",
              "  0.6367762088775635,\n",
              "  0.6262755990028381,\n",
              "  0.6368067264556885,\n",
              "  0.6375195384025574,\n",
              "  0.6319530010223389,\n",
              "  0.6328642964363098,\n",
              "  0.6245092153549194,\n",
              "  0.6347246766090393,\n",
              "  0.6288383603096008,\n",
              "  0.6341902017593384,\n",
              "  0.6377423405647278,\n",
              "  0.6317111849784851,\n",
              "  0.6364040374755859,\n",
              "  0.6296745538711548,\n",
              "  0.6276743412017822,\n",
              "  0.6284839510917664,\n",
              "  0.6231297254562378,\n",
              "  0.6336365342140198,\n",
              "  0.6331014037132263],\n",
              " 'accuracy': [0.5518394708633423,\n",
              "  0.6755852699279785,\n",
              "  0.6755852699279785,\n",
              "  0.6755852699279785,\n",
              "  0.6755852699279785,\n",
              "  0.6722407937049866,\n",
              "  0.6789297461509705,\n",
              "  0.6755852699279785,\n",
              "  0.6822742223739624,\n",
              "  0.6789297461509705,\n",
              "  0.6789297461509705,\n",
              "  0.6789297461509705,\n",
              "  0.6789297461509705,\n",
              "  0.6789297461509705,\n",
              "  0.6789297461509705,\n",
              "  0.6789297461509705,\n",
              "  0.6789297461509705,\n",
              "  0.6789297461509705,\n",
              "  0.6789297461509705,\n",
              "  0.6789297461509705,\n",
              "  0.6789297461509705,\n",
              "  0.6789297461509705,\n",
              "  0.6789297461509705,\n",
              "  0.6789297461509705,\n",
              "  0.6789297461509705,\n",
              "  0.6789297461509705,\n",
              "  0.6789297461509705,\n",
              "  0.6789297461509705,\n",
              "  0.6789297461509705,\n",
              "  0.6789297461509705,\n",
              "  0.6789297461509705,\n",
              "  0.6789297461509705,\n",
              "  0.6789297461509705,\n",
              "  0.6789297461509705,\n",
              "  0.6789297461509705,\n",
              "  0.6789297461509705,\n",
              "  0.6789297461509705,\n",
              "  0.6789297461509705,\n",
              "  0.6789297461509705,\n",
              "  0.6789297461509705,\n",
              "  0.6789297461509705,\n",
              "  0.6789297461509705,\n",
              "  0.6789297461509705,\n",
              "  0.6789297461509705,\n",
              "  0.6789297461509705,\n",
              "  0.6789297461509705,\n",
              "  0.6789297461509705,\n",
              "  0.6789297461509705,\n",
              "  0.6789297461509705,\n",
              "  0.6789297461509705,\n",
              "  0.6789297461509705,\n",
              "  0.6789297461509705,\n",
              "  0.6789297461509705,\n",
              "  0.6789297461509705,\n",
              "  0.6789297461509705,\n",
              "  0.6789297461509705,\n",
              "  0.6789297461509705,\n",
              "  0.6789297461509705,\n",
              "  0.6789297461509705,\n",
              "  0.6789297461509705,\n",
              "  0.6789297461509705,\n",
              "  0.6789297461509705,\n",
              "  0.6789297461509705,\n",
              "  0.6789297461509705,\n",
              "  0.6789297461509705,\n",
              "  0.6789297461509705,\n",
              "  0.6789297461509705,\n",
              "  0.6789297461509705,\n",
              "  0.6789297461509705,\n",
              "  0.6789297461509705,\n",
              "  0.6789297461509705,\n",
              "  0.6789297461509705,\n",
              "  0.6789297461509705,\n",
              "  0.6789297461509705,\n",
              "  0.6789297461509705,\n",
              "  0.6789297461509705,\n",
              "  0.6789297461509705,\n",
              "  0.6789297461509705,\n",
              "  0.6789297461509705,\n",
              "  0.6789297461509705,\n",
              "  0.6789297461509705,\n",
              "  0.6789297461509705,\n",
              "  0.6789297461509705,\n",
              "  0.6789297461509705,\n",
              "  0.6789297461509705,\n",
              "  0.6789297461509705,\n",
              "  0.6789297461509705,\n",
              "  0.6789297461509705,\n",
              "  0.6789297461509705,\n",
              "  0.6789297461509705,\n",
              "  0.6789297461509705,\n",
              "  0.6789297461509705,\n",
              "  0.6789297461509705,\n",
              "  0.6789297461509705,\n",
              "  0.6789297461509705,\n",
              "  0.6789297461509705,\n",
              "  0.6789297461509705,\n",
              "  0.6789297461509705,\n",
              "  0.6789297461509705,\n",
              "  0.6789297461509705]}"
            ]
          },
          "metadata": {},
          "execution_count": 50
        }
      ]
    },
    {
      "cell_type": "code",
      "source": [
        "# Evaluate the model on the generated data\n",
        "loss, accuracy = model.evaluate(X, y)\n",
        "print(f\"Loss: {loss:.4f}, Accuracy: {accuracy:.4f}\")"
      ],
      "metadata": {
        "colab": {
          "base_uri": "https://localhost:8080/"
        },
        "id": "wQWN8GhkYOrA",
        "outputId": "14e304c1-2b45-413c-e19a-d88dd0a82189"
      },
      "execution_count": null,
      "outputs": [
        {
          "output_type": "stream",
          "name": "stdout",
          "text": [
            "10/10 [==============================] - 0s 2ms/step - loss: 0.6304 - accuracy: 0.6789\n",
            "Loss: 0.6304, Accuracy: 0.6789\n"
          ]
        }
      ]
    },
    {
      "cell_type": "code",
      "source": [
        "# Plot the loss and accuracy over epochs\n",
        "plt.plot(history.history['loss'])\n",
        "plt.plot(history.history['accuracy'])\n",
        "plt.title('Model Performance')\n",
        "plt.xlabel('Epoch')\n",
        "plt.legend(['Loss', 'Accuracy'])\n",
        "plt.show()"
      ],
      "metadata": {
        "colab": {
          "base_uri": "https://localhost:8080/",
          "height": 472
        },
        "id": "o5vhJUZMYRnH",
        "outputId": "4c8887bd-f8db-4484-d66b-e5ecf24bf991"
      },
      "execution_count": null,
      "outputs": [
        {
          "output_type": "display_data",
          "data": {
            "text/plain": [
              "<Figure size 640x480 with 1 Axes>"
            ],
            "image/png": "[encoded data removed]"
          },
          "metadata": {}
        }
      ]
    },
    {
      "cell_type": "markdown",
      "source": [
        "#### Impact of hyperparameters on the model\n",
        "*   Increasing the number of hidden layers allow the model to learn more complex representations and capture intricate patterns in the data.\n",
        "*   Increasing the number of neurons can enhance the model's ability to fit the training data more accurately.\n",
        "*   Different activation functions such as ReLU, sigmoid, or tanh have different characteristics and can affect the model's ability to capture and propagate gradients during training.\n",
        "*   Finding an appropriate learning rate through experimentation or using adaptive learning rate techniques (e.g., learning rate schedules, adaptive optimizers) is crucial for effective training."
      ],
      "metadata": {
        "id": "dPPTqvfljiou"
      }
    },
    {
      "cell_type": "markdown",
      "source": [
        "## Question 2: Convolutional Neural Networks (Topics: CNN architecture, Image Classification)"
      ],
      "metadata": {
        "id": "1LNPBUATwvw3"
      }
    },
    {
      "cell_type": "code",
      "source": [
        "# Import the necessary libraries\n",
        "import numpy as np\n",
        "import matplotlib.pyplot as plt\n",
        "import tensorflow as tf\n",
        "from tensorflow.keras.datasets import mnist\n",
        "from tensorflow.keras.models import Sequential\n",
        "from tensorflow.keras.layers import Conv2D, MaxPooling2D, Dense, Flatten, Dropout\n",
        "from tensorflow.keras.optimizers import Adam\n",
        "from tensorflow.keras.utils import to_categorical"
      ],
      "metadata": {
        "id": "1C5hOi1nw7GZ"
      },
      "execution_count": null,
      "outputs": []
    },
    {
      "cell_type": "code",
      "source": [
        "# Load the CIFAR-10 dataset\n",
        "(X_train, y_train), (X_test, y_test) = mnist.load_data()"
      ],
      "metadata": {
        "id": "egorZ0t24rNz"
      },
      "execution_count": null,
      "outputs": []
    },
    {
      "cell_type": "code",
      "source": [
        "# Defining class labels\n",
        "class_labels = [\n",
        "    '0', '1', '2', '3', '4', '5', '6', '7', '8', '9'\n",
        "]"
      ],
      "metadata": {
        "id": "OwxhLWewDS3V"
      },
      "execution_count": null,
      "outputs": []
    },
    {
      "cell_type": "code",
      "source": [
        "# Checking the shape of the train data\n",
        "X_train[0].shape"
      ],
      "metadata": {
        "colab": {
          "base_uri": "https://localhost:8080/"
        },
        "id": "pR704KMzCb91",
        "outputId": "6126480f-8056-4cb3-f41a-a60dc4da26ab"
      },
      "execution_count": null,
      "outputs": [
        {
          "output_type": "execute_result",
          "data": {
            "text/plain": [
              "(28, 28)"
            ]
          },
          "metadata": {},
          "execution_count": 39
        }
      ]
    },
    {
      "cell_type": "code",
      "source": [
        "y_train"
      ],
      "metadata": {
        "colab": {
          "base_uri": "https://localhost:8080/"
        },
        "id": "GuZDdPosCjOm",
        "outputId": "8920cae3-d6cf-4e02-c5aa-5ffafc8da64f"
      },
      "execution_count": null,
      "outputs": [
        {
          "output_type": "execute_result",
          "data": {
            "text/plain": [
              "array([5, 0, 4, ..., 5, 6, 8], dtype=uint8)"
            ]
          },
          "metadata": {},
          "execution_count": 40
        }
      ]
    },
    {
      "cell_type": "code",
      "source": [
        "# define row and column of figure\n",
        "rows, columns = 5, 10"
      ],
      "metadata": {
        "id": "6SdthkUvCp6V"
      },
      "execution_count": null,
      "outputs": []
    },
    {
      "cell_type": "code",
      "source": [
        "# Define figure\n",
        "fig = plt.figure(figsize=(10, 10))\n",
        "\n",
        "# Display random images with labels\n",
        "for i in range(1, columns*rows +1):\n",
        "    image = X_train[i]\n",
        "    label = y_train[i]\n",
        "    class_name = class_labels[label]\n",
        "\n",
        "    fig.add_subplot(rows, columns, i)\n",
        "    plt.imshow(image)\n",
        "    plt.xticks([])\n",
        "    plt.yticks([])\n",
        "    plt.title(class_name)\n",
        "    plt.axis('off')\n",
        "\n",
        "plt.show()"
      ],
      "metadata": {
        "colab": {
          "base_uri": "https://localhost:8080/",
          "height": 762
        },
        "id": "0Im4itYNC0in",
        "outputId": "12bade49-52c4-49b4-a15c-01ea8545a561"
      },
      "execution_count": null,
      "outputs": [
        {
          "output_type": "display_data",
          "data": {
            "text/plain": [
              "<Figure size 1000x1000 with 50 Axes>"
            ],
            "image/png": "[encoded data removed]"
          },
          "metadata": {}
        }
      ]
    },
    {
      "cell_type": "code",
      "source": [
        "X_train.max()"
      ],
      "metadata": {
        "colab": {
          "base_uri": "https://localhost:8080/"
        },
        "id": "4XYsCJFfFA2R",
        "outputId": "62bee9c6-3f24-4354-ec93-fa4019538538"
      },
      "execution_count": null,
      "outputs": [
        {
          "output_type": "execute_result",
          "data": {
            "text/plain": [
              "255"
            ]
          },
          "metadata": {},
          "execution_count": 43
        }
      ]
    },
    {
      "cell_type": "code",
      "source": [
        "X_train.min()"
      ],
      "metadata": {
        "colab": {
          "base_uri": "https://localhost:8080/"
        },
        "id": "_DcZcEshFIYz",
        "outputId": "941d8146-2e4a-4581-8938-838295f4a4b5"
      },
      "execution_count": null,
      "outputs": [
        {
          "output_type": "execute_result",
          "data": {
            "text/plain": [
              "0"
            ]
          },
          "metadata": {},
          "execution_count": 44
        }
      ]
    },
    {
      "cell_type": "code",
      "source": [
        "# Preprocess the data by scaling it between 0 and 1\n",
        "X_train = X_train / 255.0\n",
        "X_test = X_test / 255.0\n",
        "\n",
        "# Converting the labels to one-hot encoding\n",
        "y_train = to_categorical(y_train)\n",
        "y_test = to_categorical(y_test)"
      ],
      "metadata": {
        "id": "ZSA4HF8mFNLM"
      },
      "execution_count": null,
      "outputs": []
    },
    {
      "cell_type": "code",
      "source": [
        "plt.imshow(X_train[0])"
      ],
      "metadata": {
        "colab": {
          "base_uri": "https://localhost:8080/",
          "height": 449
        },
        "id": "IIdHKCE3FTH1",
        "outputId": "3e27bed3-c847-4834-ddfb-dd13e6fae7b3"
      },
      "execution_count": null,
      "outputs": [
        {
          "output_type": "execute_result",
          "data": {
            "text/plain": [
              "<matplotlib.image.AxesImage at 0x7914b1d0d2a0>"
            ]
          },
          "metadata": {},
          "execution_count": 46
        },
        {
          "output_type": "display_data",
          "data": {
            "text/plain": [
              "<Figure size 640x480 with 1 Axes>"
            ],
            "image/png": "[encoded data removed]"
          },
          "metadata": {}
        }
      ]
    },
    {
      "cell_type": "code",
      "source": [
        "X_train.shape"
      ],
      "metadata": {
        "colab": {
          "base_uri": "https://localhost:8080/"
        },
        "id": "sA3lujAxFbOO",
        "outputId": "da18cd79-8483-4a5d-eaab-019b3e2c510b"
      },
      "execution_count": null,
      "outputs": [
        {
          "output_type": "execute_result",
          "data": {
            "text/plain": [
              "(60000, 28, 28)"
            ]
          },
          "metadata": {},
          "execution_count": 47
        }
      ]
    },
    {
      "cell_type": "code",
      "source": [
        "# Defining our CNN model\n",
        "model = Sequential() # initialize a sequential model object\n",
        "\n",
        "# Adding the first convolutional layer with 32 filters, a 3x3 kernel size, and ReLU activation function\n",
        "# Set the input shape to (32, 32, 3)\n",
        "model.add(Conv2D(32, kernel_size=(3, 3), activation='relu', input_shape=(28, 28, 1)))\n",
        "\n",
        "# Adding a max pooling layer with pool size (2, 2) to reduce the spatial dimensions by half\n",
        "model.add(MaxPooling2D(pool_size=(2, 2)))\n",
        "\n",
        "# Adding a dropout layer with a rate of 0.25 to help prevent overfitting\n",
        "model.add(Dropout(0.25))\n",
        "\n",
        "# Adding a second convolutional layer with 64 filters and a 3x3 kernel size\n",
        "model.add(Conv2D(64, kernel_size=(3, 3), activation='relu'))\n",
        "\n",
        "# Adding another max pooling layer with pool size (2, 2)\n",
        "model.add(MaxPooling2D(pool_size=(2, 2)))\n",
        "\n",
        "# Adding another dropout layer with a rate of 0.25\n",
        "model.add(Dropout(0.25))\n",
        "\n",
        "# Flatten the output from the convolutional layers to a 1D array for the dense layers\n",
        "model.add(Flatten())\n",
        "\n",
        "# Add a fully connected dense layer with 256 units and ReLU activation function\n",
        "model.add(Dense(256, activation='relu'))\n",
        "\n",
        "# Add another dropout layer with a rate of 0.5\n",
        "model.add(Dropout(0.5))\n",
        "\n",
        "# Add the final dense layer with 10 units for the 10 classes in CIFAR-10, and a softmax activation function for probability scores\n",
        "model.add(Dense(10, activation='softmax'))\n"
      ],
      "metadata": {
        "id": "S_0tV116FhCS"
      },
      "execution_count": null,
      "outputs": []
    },
    {
      "cell_type": "code",
      "source": [
        "# Compiling the model\n",
        "model.compile(loss='categorical_crossentropy', optimizer=Adam(learning_rate=0.001), metrics=['accuracy'])"
      ],
      "metadata": {
        "id": "j367WsxLGIbD"
      },
      "execution_count": null,
      "outputs": []
    },
    {
      "cell_type": "code",
      "source": [
        "# Training the model\n",
        "history = model.fit(X_train, y_train, batch_size=64, epochs=10, validation_data=(X_test, y_test))"
      ],
      "metadata": {
        "colab": {
          "base_uri": "https://localhost:8080/"
        },
        "id": "x9P0MXZVGNFa",
        "outputId": "2e5846b0-623b-4d70-e837-c1224c6636e4"
      },
      "execution_count": null,
      "outputs": [
        {
          "output_type": "stream",
          "name": "stdout",
          "text": [
            "Epoch 1/10\n",
            "938/938 [==============================] - 78s 82ms/step - loss: 0.2320 - accuracy: 0.9276 - val_loss: 0.0513 - val_accuracy: 0.9831\n",
            "Epoch 2/10\n",
            "938/938 [==============================] - 73s 78ms/step - loss: 0.0855 - accuracy: 0.9736 - val_loss: 0.0430 - val_accuracy: 0.9859\n",
            "Epoch 3/10\n",
            "938/938 [==============================] - 74s 79ms/step - loss: 0.0633 - accuracy: 0.9801 - val_loss: 0.0285 - val_accuracy: 0.9912\n",
            "Epoch 4/10\n",
            "938/938 [==============================] - 75s 80ms/step - loss: 0.0534 - accuracy: 0.9831 - val_loss: 0.0272 - val_accuracy: 0.9901\n",
            "Epoch 5/10\n",
            "938/938 [==============================] - 73s 78ms/step - loss: 0.0482 - accuracy: 0.9855 - val_loss: 0.0228 - val_accuracy: 0.9927\n",
            "Epoch 6/10\n",
            "938/938 [==============================] - 74s 79ms/step - loss: 0.0424 - accuracy: 0.9865 - val_loss: 0.0232 - val_accuracy: 0.9920\n",
            "Epoch 7/10\n",
            "938/938 [==============================] - 73s 78ms/step - loss: 0.0371 - accuracy: 0.9886 - val_loss: 0.0221 - val_accuracy: 0.9923\n",
            "Epoch 8/10\n",
            "938/938 [==============================] - 73s 78ms/step - loss: 0.0338 - accuracy: 0.9891 - val_loss: 0.0219 - val_accuracy: 0.9928\n",
            "Epoch 9/10\n",
            "938/938 [==============================] - 74s 79ms/step - loss: 0.0335 - accuracy: 0.9895 - val_loss: 0.0202 - val_accuracy: 0.9929\n",
            "Epoch 10/10\n",
            "938/938 [==============================] - 74s 79ms/step - loss: 0.0290 - accuracy: 0.9905 - val_loss: 0.0237 - val_accuracy: 0.9929\n"
          ]
        }
      ]
    },
    {
      "cell_type": "code",
      "source": [
        "import matplotlib.pyplot as plt\n",
        "# Displaying the accuracy curve\n",
        "plt.plot(history.history['accuracy'])\n",
        "plt.title('Model Accuracy')\n",
        "plt.ylabel('Accuracy')\n",
        "plt.xlabel('Epochs')\n",
        "plt.legend(['train'], loc = 'upper left')\n",
        "plt.show()"
      ],
      "metadata": {
        "colab": {
          "base_uri": "https://localhost:8080/",
          "height": 472
        },
        "id": "7lITnJFtJmA8",
        "outputId": "1eca270d-c35d-46ea-f1e6-66525d58f375"
      },
      "execution_count": null,
      "outputs": [
        {
          "output_type": "display_data",
          "data": {
            "text/plain": [
              "<Figure size 640x480 with 1 Axes>"
            ],
            "image/png": "[encoded data removed]"
          },
          "metadata": {}
        }
      ]
    },
    {
      "cell_type": "code",
      "source": [
        "# Evaluate the model on the test data\n",
        "test_loss, test_acc = model.evaluate(X_test, y_test)\n",
        "print(\"Test loss:\", test_loss)\n",
        "print(\"Test accuracy:\", test_acc)"
      ],
      "metadata": {
        "colab": {
          "base_uri": "https://localhost:8080/"
        },
        "id": "9dCtqgCUHG6O",
        "outputId": "ced3f4a2-cde0-4e73-cd8d-a301c4adeaab"
      },
      "execution_count": null,
      "outputs": [
        {
          "output_type": "stream",
          "name": "stdout",
          "text": [
            "313/313 [==============================] - 3s 11ms/step - loss: 0.0237 - accuracy: 0.9929\n",
            "Test loss: 0.02366466633975506\n",
            "Test accuracy: 0.992900013923645\n"
          ]
        }
      ]
    },
    {
      "cell_type": "code",
      "source": [
        "# Evaluating the performance\n",
        "from sklearn.metrics import classification_report, confusion_matrix\n",
        "prob = model.predict(X_test)\n",
        "pred = np.argmax(prob, axis=1)\n",
        "predictions = to_categorical(pred)\n",
        "print(classification_report(y_test,predictions,target_names= class_labels))"
      ],
      "metadata": {
        "colab": {
          "base_uri": "https://localhost:8080/"
        },
        "id": "B1YEsP5gG9JL",
        "outputId": "25467062-5cc4-4b9a-a99a-ee21d7b7ac20"
      },
      "execution_count": null,
      "outputs": [
        {
          "output_type": "stream",
          "name": "stdout",
          "text": [
            "313/313 [==============================] - 3s 11ms/step\n",
            "              precision    recall  f1-score   support\n",
            "\n",
            "           0       1.00      1.00      1.00       980\n",
            "           1       0.99      1.00      1.00      1135\n",
            "           2       0.98      1.00      0.99      1032\n",
            "           3       0.99      0.99      0.99      1010\n",
            "           4       1.00      0.99      0.99       982\n",
            "           5       0.99      0.99      0.99       892\n",
            "           6       0.99      0.99      0.99       958\n",
            "           7       0.99      0.98      0.99      1028\n",
            "           8       0.99      0.99      0.99       974\n",
            "           9       0.99      0.99      0.99      1009\n",
            "\n",
            "   micro avg       0.99      0.99      0.99     10000\n",
            "   macro avg       0.99      0.99      0.99     10000\n",
            "weighted avg       0.99      0.99      0.99     10000\n",
            " samples avg       0.99      0.99      0.99     10000\n",
            "\n"
          ]
        }
      ]
    },
    {
      "cell_type": "markdown",
      "source": [
        "##### Changing the number of filters and kernel size"
      ],
      "metadata": {
        "id": "VmWD48hlPumn"
      }
    },
    {
      "cell_type": "code",
      "source": [
        "# Defining our CNN model\n",
        "model_0 = Sequential() # initialize a sequential model object\n",
        "\n",
        "# Adding the first convolutional layer with 32 filters, a 3x3 kernel size, and ReLU activation function\n",
        "# Set the input shape to (32, 32, 3)\n",
        "model_0.add(Conv2D(32, kernel_size=(3, 3), activation='relu', input_shape=(28, 28, 1)))\n",
        "\n",
        "# Adding a max pooling layer with pool size (2, 2) to reduce the spatial dimensions by half\n",
        "model_0.add(MaxPooling2D(pool_size=(2, 2)))\n",
        "\n",
        "# Adding a dropout layer with a rate of 0.25 to help prevent overfitting\n",
        "model_0.add(Dropout(0.25))\n",
        "\n",
        "# Adding a second convolutional layer with 64 filters and a 3x3 kernel size\n",
        "model_0.add(Conv2D(64, kernel_size=(4, 4), activation='relu'))\n",
        "\n",
        "# Adding another max pooling layer with pool size (2, 2)\n",
        "model_0.add(MaxPooling2D(pool_size=(2, 2)))\n",
        "\n",
        "# Adding another dropout layer with a rate of 0.25\n",
        "model_0.add(Dropout(0.25))\n",
        "\n",
        "# Flatten the output from the convolutional layers to a 1D array for the dense layers\n",
        "model_0.add(Flatten())\n",
        "\n",
        "# Add a fully connected dense layer with 256 units and ReLU activation function\n",
        "model_0.add(Dense(256, activation='relu'))\n",
        "\n",
        "# Add another dropout layer with a rate of 0.5\n",
        "model_0.add(Dropout(0.5))\n",
        "\n",
        "# Add the final dense layer with 10 units for the 10 classes in CIFAR-10, and a softmax activation function for probability scores\n",
        "model_0.add(Dense(10, activation='softmax'))\n"
      ],
      "metadata": {
        "id": "IrV4m0u7Hh1b"
      },
      "execution_count": null,
      "outputs": []
    },
    {
      "cell_type": "code",
      "source": [
        "# Compiling the model\n",
        "model_0.compile(loss='categorical_crossentropy', optimizer=Adam(learning_rate=0.001), metrics=['accuracy'])"
      ],
      "metadata": {
        "id": "mySiIiJeQY7U"
      },
      "execution_count": null,
      "outputs": []
    },
    {
      "cell_type": "code",
      "source": [
        "# Training the model\n",
        "history = model_0.fit(X_train, y_train, batch_size=64, epochs=1, validation_data=(X_test, y_test))"
      ],
      "metadata": {
        "id": "eZrVXy6kQdmt",
        "colab": {
          "base_uri": "https://localhost:8080/"
        },
        "outputId": "477be1d2-160a-4838-f2a8-73f0f3be0ae0"
      },
      "execution_count": null,
      "outputs": [
        {
          "output_type": "stream",
          "name": "stdout",
          "text": [
            "938/938 [==============================] - 89s 94ms/step - loss: 0.2212 - accuracy: 0.9317 - val_loss: 0.0485 - val_accuracy: 0.9845\n"
          ]
        }
      ]
    },
    {
      "cell_type": "code",
      "source": [
        "history.history"
      ],
      "metadata": {
        "id": "yQRpsDduYo9l"
      },
      "execution_count": null,
      "outputs": []
    },
    {
      "cell_type": "code",
      "source": [
        "# Evaluate the model on the test data\n",
        "test_loss, test_acc = model_0.evaluate(X_test, y_test)\n",
        "print(\"Test loss:\", test_loss)\n",
        "print(\"Test accuracy:\", test_acc)"
      ],
      "metadata": {
        "id": "TebfGVI0StyH",
        "colab": {
          "base_uri": "https://localhost:8080/"
        },
        "outputId": "ee3231db-c757-48b4-cfa7-4a5814a57fbd"
      },
      "execution_count": null,
      "outputs": [
        {
          "metadata": {
            "tags": null
          },
          "name": "stdout",
          "output_type": "stream",
          "text": [
            "313/313 [==============================] - 4s 12ms/step - loss: 0.0485 - accuracy: 0.9845\n",
            "Test loss: 0.04846150055527687\n",
            "Test accuracy: 0.984499990940094\n"
          ]
        }
      ]
    },
    {
      "cell_type": "markdown",
      "source": [
        "### Impact of hyperparameters on the model\n",
        "\n",
        "*   Increasing the number of filters can allow the model to learn more complex patterns, and as well increases the model's computational requirements.\n",
        "*   Experimenting with different kernel sizes can help find the right balance for the specific task.\n",
        "*   Finding an appropriate learning rate through experimentation, or using adaptive learning rate techniques, can help improve performance.\n",
        "*   Experimenting with the depth of the network can help find the optimal balance between capacity and generalization.\n",
        "\n"
      ],
      "metadata": {
        "id": "r5Mb43FKR0u_"
      }
    },
    {
      "cell_type": "markdown",
      "source": [
        "## Model Card for question 2"
      ],
      "metadata": {
        "id": "OLzyrLrwYhbC"
      }
    },
    {
      "cell_type": "code",
      "source": [
        "%%shell\n",
        "update-alternatives --install /usr/bin/python3 python3 /usr/bin/python3.8 3\n",
        "curl -O https://bootstrap.pypa.io/get-pip.py\n",
        "python get-pip.py"
      ],
      "metadata": {
        "colab": {
          "base_uri": "https://localhost:8080/"
        },
        "id": "NUAZ6xmv25j-",
        "outputId": "58e6dbb7-df7f-457c-86a5-73b2f3f900db"
      },
      "execution_count": null,
      "outputs": [
        {
          "output_type": "stream",
          "name": "stdout",
          "text": [
            "update-alternatives: error: alternative path /usr/bin/python3.8 doesn't exist\n",
            "  % Total    % Received % Xferd  Average Speed   Time    Time     Time  Current\n",
            "                                 Dload  Upload   Total   Spent    Left  Speed\n",
            "100 2544k  100 2544k    0     0  8045k      0 --:--:-- --:--:-- --:--:-- 8052k\n",
            "Collecting pip\n",
            "  Obtaining dependency information for pip from https://files.pythonhosted.org/packages/50/c2/e06851e8cc28dcad7c155f4753da8833ac06a5c704c109313b8d5a62968a/pip-23.2.1-py3-none-any.whl.metadata\n",
            "  Downloading pip-23.2.1-py3-none-any.whl.metadata (4.2 kB)\n",
            "Downloading pip-23.2.1-py3-none-any.whl (2.1 MB)\n",
            "\u001b[2K   \u001b[90m━━━━━━━━━━━━━━━━━━━━━━━━━━━━━━━━━━━━━━━━\u001b[0m \u001b[32m2.1/2.1 MB\u001b[0m \u001b[31m11.3 MB/s\u001b[0m eta \u001b[36m0:00:00\u001b[0m\n",
            "\u001b[?25hInstalling collected packages: pip\n",
            "  Attempting uninstall: pip\n",
            "    Found existing installation: pip 23.1.2\n",
            "    Uninstalling pip-23.1.2:\n",
            "      Successfully uninstalled pip-23.1.2\n",
            "Successfully installed pip-23.2.1\n",
            "\u001b[33mWARNING: Running pip as the 'root' user can result in broken permissions and conflicting behaviour with the system package manager. It is recommended to use a virtual environment instead: https://pip.pypa.io/warnings/venv\u001b[0m\u001b[33m\n",
            "\u001b[0m"
          ]
        },
        {
          "output_type": "execute_result",
          "data": {
            "text/plain": []
          },
          "metadata": {},
          "execution_count": 76
        }
      ]
    },
    {
      "cell_type": "code",
      "source": [
        "!mkdir /usr/local/lib/python3.8/dist-packages/google\n",
        "!ln -s /usr/local/lib/python3.10/dist-packages/google/colab /usr/local/lib/python3.8/dist-packages/google/colab"
      ],
      "metadata": {
        "colab": {
          "base_uri": "https://localhost:8080/"
        },
        "id": "Xeft-O474TNF",
        "outputId": "392bd256-7f03-46a2-c4b7-43985ad20862"
      },
      "execution_count": null,
      "outputs": [
        {
          "output_type": "stream",
          "name": "stdout",
          "text": [
            "mkdir: cannot create directory ‘/usr/local/lib/python3.8/dist-packages/google’: No such file or directory\n",
            "ln: failed to create symbolic link '/usr/local/lib/python3.8/dist-packages/google/colab': No such file or directory\n"
          ]
        }
      ]
    },
    {
      "cell_type": "code",
      "source": [
        "# !pip install -U seaborn scikit-learn model-card-toolkit\n",
        "!pip install model_card_toolkit"
      ],
      "metadata": {
        "id": "FjMst8EaYnkW",
        "colab": {
          "base_uri": "https://localhost:8080/"
        },
        "outputId": "7994ebc4-77a7-4268-eaf2-1040b7ab7e16"
      },
      "execution_count": null,
      "outputs": [
        {
          "output_type": "stream",
          "name": "stdout",
          "text": [
            "Collecting model_card_toolkit\n",
            "  Using cached model_card_toolkit-2.0.0-py3-none-any.whl (68 kB)\n",
            "Collecting absl-py<1.1,>=0.9 (from model_card_toolkit)\n",
            "  Using cached absl_py-1.0.0-py3-none-any.whl (126 kB)\n",
            "Requirement already satisfied: jinja2<3.2,>=3.1 in /usr/local/lib/python3.10/dist-packages (from model_card_toolkit) (3.1.2)\n",
            "Requirement already satisfied: matplotlib<4,>=3.2.0 in /usr/local/lib/python3.10/dist-packages (from model_card_toolkit) (3.7.1)\n",
            "Collecting jsonschema<4,>=3.2.0 (from model_card_toolkit)\n",
            "  Using cached jsonschema-3.2.0-py2.py3-none-any.whl (56 kB)\n",
            "INFO: pip is looking at multiple versions of model-card-toolkit to determine which version is compatible with other requirements. This could take a while.\n",
            "Collecting model_card_toolkit\n",
            "  Using cached model_card_toolkit-1.3.2-py3-none-any.whl (79 kB)\n",
            "  Using cached model_card_toolkit-1.3.1-py3-none-any.whl (79 kB)\n",
            "Collecting jinja2<3,>=2.10 (from model_card_toolkit)\n",
            "  Using cached Jinja2-2.11.3-py2.py3-none-any.whl (125 kB)\n",
            "Collecting model_card_toolkit\n",
            "  Using cached model_card_toolkit-1.3.0-py3-none-any.whl (74 kB)\n",
            "  Using cached model_card_toolkit-1.2.0-py3-none-any.whl (67 kB)\n",
            "Collecting absl-py<0.11,>=0.9 (from model_card_toolkit)\n",
            "  Using cached absl_py-0.10.0-py3-none-any.whl (127 kB)\n",
            "Collecting model_card_toolkit\n",
            "  Using cached model_card_toolkit-1.1.0-py3-none-any.whl (57 kB)\n",
            "  Using cached model_card_toolkit-1.0.0-py3-none-any.whl (57 kB)\n",
            "  Using cached model_card_toolkit-0.1.3-py3-none-any.whl (43 kB)\n",
            "INFO: pip is still looking at multiple versions of model-card-toolkit to determine which version is compatible with other requirements. This could take a while.\n",
            "  Using cached model_card_toolkit-0.1.2-py3-none-any.whl (44 kB)\n",
            "Collecting semantic-version<3,>=2.8.0 (from model_card_toolkit)\n",
            "  Using cached semantic_version-2.10.0-py2.py3-none-any.whl (15 kB)\n",
            "Collecting model_card_toolkit\n",
            "  Using cached model_card_toolkit-0.1.1-py3-none-any.whl (38 kB)\n",
            "Collecting absl-py<0.9,>=0.7 (from model_card_toolkit)\n",
            "  Using cached absl-py-0.8.1.tar.gz (103 kB)\n",
            "  \u001b[1;31merror\u001b[0m: \u001b[1msubprocess-exited-with-error\u001b[0m\n",
            "  \n",
            "  \u001b[31m×\u001b[0m \u001b[32mpython setup.py egg_info\u001b[0m did not run successfully.\n",
            "  \u001b[31m│\u001b[0m exit code: \u001b[1;36m1\u001b[0m\n",
            "  \u001b[31m╰─>\u001b[0m See above for output.\n",
            "  \n",
            "  \u001b[1;35mnote\u001b[0m: This error originates from a subprocess, and is likely not a problem with pip.\n",
            "  Preparing metadata (setup.py) ... \u001b[?25l\u001b[?25herror\n",
            "\u001b[1;31merror\u001b[0m: \u001b[1mmetadata-generation-failed\u001b[0m\n",
            "\n",
            "\u001b[31m×\u001b[0m Encountered error while generating package metadata.\n",
            "\u001b[31m╰─>\u001b[0m See above for output.\n",
            "\n",
            "\u001b[1;35mnote\u001b[0m: This is an issue with the package mentioned above, not pip.\n",
            "\u001b[1;36mhint\u001b[0m: See above for details.\n"
          ]
        }
      ]
    },
    {
      "cell_type": "code",
      "source": [
        "# Import neccessary libraries\n",
        "from datetime import date\n",
        "from io import BytesIO\n",
        "from IPython import display\n",
        "import model_card_toolkit as mctlib\n",
        "import base64\n",
        "import uuid\n",
        "\n",
        "#Create instance of model card toolkit class\n",
        "mct = mctlib.ModelCardToolkit()\n",
        "\n",
        "#Create basic model template\n",
        "model_card = mct.scaffold_assets()"
      ],
      "metadata": {
        "id": "OmmLvUUdaly-"
      },
      "execution_count": null,
      "outputs": []
    },
    {
      "cell_type": "code",
      "source": [
        "# Annotate information into model card\n",
        "model_card.model_details.name = 'Number Classifier'\n",
        "model_card.model_details.overview = (\n",
        "    'This model analyzed in this card classifies handwritten or printed numerical digits into their respective categories 0-9. It uses a deep learning architecture to learn patterns and features from input images of digits and make predictions based on the learned knowledge.')\n",
        "model_card.model_details.owners = [\n",
        "    mctlib.Owner(name= 'Olivia Nakacwa Kwagala', contact='lvkwagala@gmail.com')\n",
        "]\n",
        "model_card.model_details.references = [\n",
        "    mctlib.Reference(reference='https://www.kaggle.com/code/var0101/model-cards'),\n",
        "    mctlib.Reference(reference='https://modelcards.withgoogle.com/about'),\n",
        "    mctlib.Reference(reference='https://arxiv.org/abs/1810.03993')\n",
        "]\n",
        "model_card.model_details.version.name = str(uuid.uuid4())\n",
        "model_card.model_details.version.date = str(date.today())\n",
        "\n",
        "model_card.model_details.details = ([\"Input: Number images\"],\n",
        "['Output: This model can detect 1000+ images of numbers and for each image, it displays the category, label description and confidence level/accuracy.'],\n",
        "['Model Architecture: It was built using CNN specifically TensorFlow with 3  layers, RelU activation function, and Adam optimizer. It was trained with batch size 64, learning rate 0.001, and 20 epochs.'])\n",
        "\n",
        "model_card.considerations.ethical_considerations = [mctlib.Risk(\n",
        "    name=('The model could be used to discriminate against certain groups of people. It is important to use the model responsibly.')\n",
        ")]\n",
        "model_card.considerations.limitations = [mctlib.Limitation(description='The model is not perfect and can sometimes make mistakes. It is also not able to classify digits that are not well-formed.')]\n",
        "# model_card.considerations.limitations = [mctlib.Limitation(description='The model is trained on images of numbers in the range of 0 to 9. It may not provide accurate results for numbers outside this range.')]\n",
        "model_card.considerations.use_cases = [mctlib.UseCase(description='The Number Classifier model is intended to be used as a tool for automated digit recognition tasks. It can be deployed in applications such as optical character recognition (OCR), automatic number plate recognition (ANPR), and any other system that requires digit classification.')]\n",
        "model_card.considerations.users = [mctlib.User(description='Banks and financial institutions personnel'), mctlib.User(description='ML researchers'), mctlib.User(description='OCR software developers')]\n",
        "\n",
        "model_card.quantitative_analysis.graphics.description = (\n",
        "  'Acuracy curve')\n",
        "model_card.quantitative_analysis.graphics.collection = [\n",
        "    mctlib.Graphic(image=history.history['accuracy']),\n",
        "]\n",
        "\n",
        "mct.update_model_card(model_card)"
      ],
      "metadata": {
        "id": "WVcO6iaQe5Cb"
      },
      "execution_count": null,
      "outputs": []
    },
    {
      "cell_type": "code",
      "source": [
        "# Return the model card document as an HTML page\n",
        "card = mct.export_format()\n",
        "\n",
        "display.display(display.HTML(card))"
      ],
      "metadata": {
        "id": "_QpCjC_Gsf5G"
      },
      "execution_count": null,
      "outputs": []
    }
  ]
}